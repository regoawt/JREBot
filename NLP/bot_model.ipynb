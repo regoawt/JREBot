{
 "cells": [
  {
   "cell_type": "code",
   "execution_count": 1,
   "metadata": {
    "colab": {},
    "colab_type": "code",
    "id": "0FXwD9Bi2jti"
   },
   "outputs": [],
   "source": [
    "from tensorflow.keras.preprocessing.sequence import pad_sequences\n",
    "from tensorflow.keras.layers import Embedding, LSTM, Dense, Dropout, Bidirectional\n",
    "from tensorflow.keras.preprocessing.text import Tokenizer\n",
    "from tensorflow.keras.models import Sequential\n",
    "from tensorflow.keras.optimizers import Adam\n",
    "from tensorflow.keras import regularizers\n",
    "from tensorflow.keras.callbacks import Callback, EarlyStopping\n",
    "import tensorflow.keras.utils as ku\n",
    "import tensorflow as tf\n",
    "import numpy as np\n",
    "import glob\n",
    "import random"
   ]
  },
  {
   "cell_type": "code",
   "execution_count": 21,
   "metadata": {},
   "outputs": [],
   "source": [
    "read_files = glob.glob(\"*.txt\")\n",
    "\n",
    "with open(\"corpus.txt\", \"wb\") as outfile:\n",
    "    for f in read_files:\n",
    "        with open(f, \"rb\") as infile:\n",
    "            outfile.write(infile.read())"
   ]
  },
  {
   "cell_type": "code",
   "execution_count": 2,
   "metadata": {
    "colab": {
     "base_uri": "https://localhost:8080/",
     "height": 34
    },
    "colab_type": "code",
    "id": "hTgIYSvt2jts",
    "outputId": "85fd9e3d-35e3-480b-e9c5-320c20366d09"
   },
   "outputs": [
    {
     "name": "stdout",
     "output_type": "stream",
     "text": [
      "Number of unique words: 5547\n"
     ]
    }
   ],
   "source": [
    "tokenizer = Tokenizer()\n",
    "data = open('corpus.txt').read()\n",
    "\n",
    "corpus = data.lower().split('\\n ')\n",
    "tokenizer.fit_on_texts(corpus)\n",
    "num_of_unique_words = len(tokenizer.word_index) + 1\n",
    "print('Number of unique words: '+ str(num_of_unique_words))"
   ]
  },
  {
   "cell_type": "code",
   "execution_count": 20,
   "metadata": {
    "colab": {
     "base_uri": "https://localhost:8080/",
     "height": 34
    },
    "colab_type": "code",
    "id": "WQi3YWLTJuV0",
    "outputId": "59b94708-138b-4e3e-e308-8455695e4802"
   },
   "outputs": [
    {
     "name": "stdout",
     "output_type": "stream",
     "text": [
      "Number of samples: 673223\n"
     ]
    }
   ],
   "source": [
    "n = 20\n",
    "input_texts = []\n",
    "for i in range(len(corpus)):\n",
    "    sentence_list = corpus[i].rstrip(' ').split(' ')\n",
    "    if len(sentence_list) > n:\n",
    "        startpoint = len(sentence_list)-(n-1)\n",
    "        endpoint = n\n",
    "    else:\n",
    "        startpoint = 1\n",
    "        endpoint = len(sentence_list)\n",
    "            \n",
    "    for j in range(startpoint):\n",
    "        for k in range(endpoint):\n",
    "            line = sentence_list[j+k:j+n]\n",
    "            input_texts.append(line)\n",
    "\n",
    "random.shuffle(input_texts)\n",
    "print('Number of samples: '+str(len(input_texts)))"
   ]
  },
  {
   "cell_type": "code",
   "execution_count": 12,
   "metadata": {
    "colab": {},
    "colab_type": "code",
    "id": "OPOCtm6D2jt2"
   },
   "outputs": [],
   "source": [
    "input_sequences = tokenizer.texts_to_sequences(input_texts)\n",
    "input_sequences = np.array(pad_sequences(input_sequences, maxlen=n, padding='pre'))\n",
    "\n",
    "predictors = input_sequences[:,:-1]\n",
    "labels = input_sequences[:,-1]"
   ]
  },
  {
   "cell_type": "code",
   "execution_count": 8,
   "metadata": {
    "colab": {},
    "colab_type": "code",
    "id": "pRZNWYcv2juC"
   },
   "outputs": [],
   "source": [
    "class mycallback(Callback):\n",
    "    def on_epoch_end(self, epoch, logs):\n",
    "        if logs.get('accuracy') > 0.9:\n",
    "            print('Stopping early')\n",
    "            self.model.stop_training = True\n",
    "            \n",
    "callback1 = mycallback()\n",
    "\n",
    "callback2 = EarlyStopping(monitor='accuracy', min_delta = 0.002)"
   ]
  },
  {
   "cell_type": "code",
   "execution_count": 9,
   "metadata": {
    "colab": {
     "base_uri": "https://localhost:8080/",
     "height": 374
    },
    "colab_type": "code",
    "id": "R7UPBte42juH",
    "outputId": "3c4ef193-83e0-4aa8-ae3d-672996c5c515"
   },
   "outputs": [
    {
     "name": "stdout",
     "output_type": "stream",
     "text": [
      "Model: \"sequential\"\n",
      "_________________________________________________________________\n",
      "Layer (type)                 Output Shape              Param #   \n",
      "=================================================================\n",
      "embedding (Embedding)        (None, 7, 100)            554700    \n",
      "_________________________________________________________________\n",
      "bidirectional (Bidirectional (None, 7, 300)            301200    \n",
      "_________________________________________________________________\n",
      "dropout (Dropout)            (None, 7, 300)            0         \n",
      "_________________________________________________________________\n",
      "lstm_1 (LSTM)                (None, 100)               160400    \n",
      "_________________________________________________________________\n",
      "dense (Dense)                (None, 2773)              280073    \n",
      "_________________________________________________________________\n",
      "dense_1 (Dense)              (None, 5547)              15387378  \n",
      "=================================================================\n",
      "Total params: 16,683,751\n",
      "Trainable params: 16,683,751\n",
      "Non-trainable params: 0\n",
      "_________________________________________________________________\n",
      "None\n"
     ]
    }
   ],
   "source": [
    "model = Sequential([\n",
    "    Embedding(num_of_unique_words, 100, input_length=n-1),\n",
    "    Bidirectional(LSTM(150, return_sequences=True)),\n",
    "    Dropout(0.3),\n",
    "    LSTM(100),\n",
    "    Dense(num_of_unique_words/2, activation='relu', kernel_regularizer=regularizers.l2(0.01)),\n",
    "    Dense(num_of_unique_words, activation='softmax')\n",
    "])\n",
    "model.compile(loss='sparse_categorical_crossentropy', optimizer='adam', metrics=['accuracy'])\n",
    "print(model.summary())"
   ]
  },
  {
   "cell_type": "code",
   "execution_count": 13,
   "metadata": {
    "colab": {
     "base_uri": "https://localhost:8080/",
     "height": 1000
    },
    "colab_type": "code",
    "id": "N_omQzOc2juL",
    "outputId": "425c66ee-9950-4d26-e4f0-f2a3ec051938"
   },
   "outputs": [
    {
     "name": "stdout",
     "output_type": "stream",
     "text": [
      "Epoch 1/150\n",
      "WARNING:tensorflow:Model was constructed with shape (None, 7) for input Tensor(\"embedding_input:0\", shape=(None, 7), dtype=float32), but it was called on an input with incompatible shape (None, 9).\n",
      "1227/1229 [============================>.] - ETA: 0s - loss: 5.8043 - accuracy: 0.0691WARNING:tensorflow:Model was constructed with shape (None, 7) for input Tensor(\"embedding_input:0\", shape=(None, 7), dtype=float32), but it was called on an input with incompatible shape (None, 9).\n",
      "1229/1229 [==============================] - 32s 26ms/step - loss: 5.8038 - accuracy: 0.0691 - val_loss: 5.4928 - val_accuracy: 0.1037\n",
      "Epoch 2/150\n",
      "1229/1229 [==============================] - 31s 26ms/step - loss: 5.2779 - accuracy: 0.1190 - val_loss: 5.0933 - val_accuracy: 0.1349\n",
      "Epoch 3/150\n",
      "1229/1229 [==============================] - 31s 26ms/step - loss: 4.8870 - accuracy: 0.1492 - val_loss: 4.7467 - val_accuracy: 0.1655\n",
      "Epoch 4/150\n",
      "1229/1229 [==============================] - 31s 25ms/step - loss: 4.5500 - accuracy: 0.1794 - val_loss: 4.4568 - val_accuracy: 0.1933\n",
      "Epoch 5/150\n",
      "1229/1229 [==============================] - 32s 26ms/step - loss: 4.2566 - accuracy: 0.2133 - val_loss: 4.1871 - val_accuracy: 0.2270\n",
      "Epoch 6/150\n",
      "1229/1229 [==============================] - 31s 25ms/step - loss: 4.0004 - accuracy: 0.2488 - val_loss: 3.9792 - val_accuracy: 0.2580\n",
      "Epoch 7/150\n",
      "1229/1229 [==============================] - 31s 25ms/step - loss: 3.7731 - accuracy: 0.2843 - val_loss: 3.7690 - val_accuracy: 0.2952\n",
      "Epoch 8/150\n",
      "1229/1229 [==============================] - 31s 25ms/step - loss: 3.5769 - accuracy: 0.3194 - val_loss: 3.5972 - val_accuracy: 0.3259\n",
      "Epoch 9/150\n",
      "1229/1229 [==============================] - 31s 26ms/step - loss: 3.4047 - accuracy: 0.3524 - val_loss: 3.4393 - val_accuracy: 0.3589\n",
      "Epoch 10/150\n",
      "1229/1229 [==============================] - 31s 26ms/step - loss: 3.2579 - accuracy: 0.3801 - val_loss: 3.3073 - val_accuracy: 0.3831\n",
      "Epoch 11/150\n",
      "1229/1229 [==============================] - 31s 26ms/step - loss: 3.1274 - accuracy: 0.4058 - val_loss: 3.1752 - val_accuracy: 0.4096\n",
      "Epoch 12/150\n",
      "1229/1229 [==============================] - 31s 25ms/step - loss: 3.0093 - accuracy: 0.4307 - val_loss: 3.0791 - val_accuracy: 0.4291\n",
      "Epoch 13/150\n",
      "1229/1229 [==============================] - 31s 25ms/step - loss: 2.9078 - accuracy: 0.4502 - val_loss: 2.9871 - val_accuracy: 0.4500\n",
      "Epoch 14/150\n",
      "1229/1229 [==============================] - 31s 26ms/step - loss: 2.8137 - accuracy: 0.4699 - val_loss: 2.8925 - val_accuracy: 0.4722\n",
      "Epoch 15/150\n",
      "1229/1229 [==============================] - 32s 26ms/step - loss: 2.7312 - accuracy: 0.4876 - val_loss: 2.8012 - val_accuracy: 0.4925\n",
      "Epoch 16/150\n",
      "1229/1229 [==============================] - 31s 25ms/step - loss: 2.6566 - accuracy: 0.5024 - val_loss: 2.7266 - val_accuracy: 0.5069\n",
      "Epoch 17/150\n",
      "1229/1229 [==============================] - 31s 25ms/step - loss: 2.5887 - accuracy: 0.5163 - val_loss: 2.6751 - val_accuracy: 0.5194\n",
      "Epoch 18/150\n",
      "1229/1229 [==============================] - 31s 25ms/step - loss: 2.5271 - accuracy: 0.5296 - val_loss: 2.6137 - val_accuracy: 0.5336\n",
      "Epoch 19/150\n",
      "1229/1229 [==============================] - 31s 26ms/step - loss: 2.4689 - accuracy: 0.5413 - val_loss: 2.5496 - val_accuracy: 0.5458\n",
      "Epoch 20/150\n",
      "1229/1229 [==============================] - 31s 25ms/step - loss: 2.4157 - accuracy: 0.5531 - val_loss: 2.5067 - val_accuracy: 0.5554\n",
      "Epoch 21/150\n",
      "1229/1229 [==============================] - 31s 25ms/step - loss: 2.3674 - accuracy: 0.5643 - val_loss: 2.4675 - val_accuracy: 0.5663\n",
      "Epoch 22/150\n",
      "1229/1229 [==============================] - 31s 25ms/step - loss: 2.3219 - accuracy: 0.5735 - val_loss: 2.4192 - val_accuracy: 0.5752\n",
      "Epoch 23/150\n",
      "1229/1229 [==============================] - 31s 25ms/step - loss: 2.2831 - accuracy: 0.5811 - val_loss: 2.3872 - val_accuracy: 0.5832\n",
      "Epoch 24/150\n",
      "1229/1229 [==============================] - 31s 26ms/step - loss: 2.2446 - accuracy: 0.5900 - val_loss: 2.3550 - val_accuracy: 0.5921\n",
      "Epoch 25/150\n",
      "1229/1229 [==============================] - 32s 26ms/step - loss: 2.2115 - accuracy: 0.5962 - val_loss: 2.3193 - val_accuracy: 0.5977\n",
      "Epoch 26/150\n",
      "1229/1229 [==============================] - 31s 26ms/step - loss: 2.1763 - accuracy: 0.6041 - val_loss: 2.2915 - val_accuracy: 0.6065\n",
      "Epoch 27/150\n",
      "1229/1229 [==============================] - 31s 26ms/step - loss: 2.1455 - accuracy: 0.6108 - val_loss: 2.2549 - val_accuracy: 0.6126\n",
      "Epoch 28/150\n",
      "1229/1229 [==============================] - 31s 26ms/step - loss: 2.1172 - accuracy: 0.6167 - val_loss: 2.2299 - val_accuracy: 0.6204\n",
      "Epoch 29/150\n",
      "1229/1229 [==============================] - 31s 26ms/step - loss: 2.0903 - accuracy: 0.6227 - val_loss: 2.2021 - val_accuracy: 0.6261\n",
      "Epoch 30/150\n",
      "1229/1229 [==============================] - 31s 25ms/step - loss: 2.0675 - accuracy: 0.6267 - val_loss: 2.1811 - val_accuracy: 0.6304\n",
      "Epoch 31/150\n",
      "1229/1229 [==============================] - 31s 26ms/step - loss: 2.0417 - accuracy: 0.6329 - val_loss: 2.1696 - val_accuracy: 0.6335\n",
      "Epoch 32/150\n",
      "1229/1229 [==============================] - 31s 25ms/step - loss: 2.0228 - accuracy: 0.6366 - val_loss: 2.1448 - val_accuracy: 0.6394\n",
      "Epoch 33/150\n",
      "1229/1229 [==============================] - 31s 25ms/step - loss: 1.9998 - accuracy: 0.6419 - val_loss: 2.1254 - val_accuracy: 0.6437\n",
      "Epoch 34/150\n",
      "1229/1229 [==============================] - 32s 26ms/step - loss: 1.9793 - accuracy: 0.6463 - val_loss: 2.1168 - val_accuracy: 0.6448\n",
      "Epoch 35/150\n",
      "1229/1229 [==============================] - 32s 26ms/step - loss: 1.9612 - accuracy: 0.6494 - val_loss: 2.0970 - val_accuracy: 0.6501\n",
      "Epoch 36/150\n",
      "1229/1229 [==============================] - 31s 26ms/step - loss: 1.9464 - accuracy: 0.6530 - val_loss: 2.0888 - val_accuracy: 0.6505\n",
      "Epoch 37/150\n",
      "1229/1229 [==============================] - 31s 25ms/step - loss: 1.9285 - accuracy: 0.6564 - val_loss: 2.0664 - val_accuracy: 0.6570\n",
      "Epoch 38/150\n",
      "1229/1229 [==============================] - 31s 26ms/step - loss: 1.9150 - accuracy: 0.6593 - val_loss: 2.0632 - val_accuracy: 0.6569\n",
      "Epoch 39/150\n",
      "1229/1229 [==============================] - 31s 26ms/step - loss: 1.8999 - accuracy: 0.6626 - val_loss: 2.0425 - val_accuracy: 0.6632\n",
      "Epoch 40/150\n",
      "1229/1229 [==============================] - 31s 25ms/step - loss: 1.8881 - accuracy: 0.6644 - val_loss: 2.0388 - val_accuracy: 0.6635\n"
     ]
    }
   ],
   "source": [
    "history = model.fit(predictors,labels, epochs=150, callbacks=[callback1, callback2], \n",
    "                    batch_size=300, validation_split=0.15)"
   ]
  },
  {
   "cell_type": "code",
   "execution_count": 14,
   "metadata": {
    "colab": {
     "base_uri": "https://localhost:8080/",
     "height": 545
    },
    "colab_type": "code",
    "id": "28PG780q2juO",
    "outputId": "4f57f368-04aa-479f-e2e7-c7e91b8f4c62"
   },
   "outputs": [
    {
     "data": {
      "image/png": "[encoded data removed]",
      "text/plain": [
       "<Figure size 432x288 with 1 Axes>"
      ]
     },
     "metadata": {
      "needs_background": "light",
      "tags": []
     },
     "output_type": "display_data"
    },
    {
     "data": {
      "image/png": "[encoded data removed]",
      "text/plain": [
       "<Figure size 432x288 with 1 Axes>"
      ]
     },
     "metadata": {
      "needs_background": "light",
      "tags": []
     },
     "output_type": "display_data"
    }
   ],
   "source": [
    "import matplotlib.pyplot as plt\n",
    "acc = history.history['accuracy']\n",
    "loss = history.history['loss']\n",
    "val_acc = history.history['val_accuracy']\n",
    "val_loss = history.history['val_loss']\n",
    "\n",
    "epochs = range(len(acc))\n",
    "\n",
    "plt.plot(epochs, acc, 'b', label='Training accuracy')\n",
    "plt.plot(epochs, val_acc, 'r', label='Validation accuracy')\n",
    "plt.title('Training accuracy')\n",
    "\n",
    "plt.figure()\n",
    "\n",
    "plt.plot(epochs, loss, 'b', label='Training Loss')\n",
    "plt.plot(epochs, val_loss, 'r', label='Validation Loss')\n",
    "plt.title('Training loss')\n",
    "plt.legend()\n",
    "\n",
    "plt.show()"
   ]
  },
  {
   "cell_type": "code",
   "execution_count": 15,
   "metadata": {
    "colab": {
     "base_uri": "https://localhost:8080/",
     "height": 156
    },
    "colab_type": "code",
    "id": "nypJvU5f2Cir",
    "outputId": "7f11f687-d5ae-4818-e635-b12a3727fd7e"
   },
   "outputs": [
    {
     "name": "stdout",
     "output_type": "stream",
     "text": [
      "WARNING:tensorflow:From /usr/local/lib/python3.6/dist-packages/tensorflow/python/training/tracking/tracking.py:111: Model.state_updates (from tensorflow.python.keras.engine.training) is deprecated and will be removed in a future version.\n",
      "Instructions for updating:\n",
      "This property should not be used in TensorFlow 2.0, as updates are applied automatically.\n",
      "WARNING:tensorflow:From /usr/local/lib/python3.6/dist-packages/tensorflow/python/training/tracking/tracking.py:111: Layer.updates (from tensorflow.python.keras.engine.base_layer) is deprecated and will be removed in a future version.\n",
      "Instructions for updating:\n",
      "This property should not be used in TensorFlow 2.0, as updates are applied automatically.\n",
      "INFO:tensorflow:Assets written to: tmp/jrebot/assets\n"
     ]
    }
   ],
   "source": [
    "model.save('tmp/jrebot', overwrite=True)"
   ]
  },
  {
   "cell_type": "code",
   "execution_count": 63,
   "metadata": {
    "colab": {
     "base_uri": "https://localhost:8080/",
     "height": 54
    },
    "colab_type": "code",
    "id": "MXhLaIBk2juQ",
    "outputId": "7cdec19c-d3be-4c0a-b6c6-55f8b0b82e2b"
   },
   "outputs": [
    {
     "name": "stdout",
     "output_type": "stream",
     "text": [
      "elon musk is talking about these driverless cars one of the things he's saying that i didn't know when we were kids and today i do have to learn how to play parts to a guy's got his own fucking jet got me in all from gambling mean that's that's that's bizarre\n"
     ]
    }
   ],
   "source": [
    "seed = \"elon musk\"\n",
    "\n",
    "next_words = 50\n",
    "phrase = []\n",
    "def randomize_word(sequence, temperature=1):\n",
    "    probs = model.predict(sequence)\n",
    "    rescaled_logits = tf.math.log(probs)/temperature\n",
    "    word_id = tf.random.categorical(rescaled_logits, num_samples=1)\n",
    "\n",
    "    return word_id\n",
    "\n",
    "\n",
    "for _ in range(next_words):\n",
    "    phrase = seed.split(' ')[-(n-1)::]\n",
    "    sequence = tokenizer.texts_to_sequences([phrase])\n",
    "    sequence = pad_sequences(sequence, maxlen=n-1, padding='pre')\n",
    "    #predicted = model.predict_classes(sequence)\n",
    "    predicted = randomize_word(sequence,temperature=0.5)\n",
    "    next_word = ''\n",
    "    for word,index in tokenizer.word_index.items():\n",
    "        if index == predicted[0]:\n",
    "            next_word = word\n",
    "            break\n",
    "    seed += ' ' + next_word\n",
    "\n",
    "print(seed)\n",
    "    "
   ]
  },
  {
   "cell_type": "code",
   "execution_count": null,
   "metadata": {
    "colab": {},
    "colab_type": "code",
    "id": "c2Li3DMv2juS"
   },
   "outputs": [],
   "source": []
  }
 ],
 "metadata": {
  "accelerator": "GPU",
  "colab": {
   "name": "bot_model.ipynb",
   "provenance": [],
   "toc_visible": true
  },
  "kernelspec": {
   "display_name": "Python 3",
   "language": "python",
   "name": "python3"
  },
  "language_info": {
   "codemirror_mode": {
    "name": "ipython",
    "version": 3
   },
   "file_extension": ".py",
   "mimetype": "text/x-python",
   "name": "python",
   "nbconvert_exporter": "python",
   "pygments_lexer": "ipython3",
   "version": "3.8.5"
  }
 },
 "nbformat": 4,
 "nbformat_minor": 1
}
