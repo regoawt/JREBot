{
 "cells": [
  {
   "cell_type": "code",
   "execution_count": 1,
   "metadata": {
    "colab": {},
    "colab_type": "code",
    "id": "0FXwD9Bi2jti"
   },
   "outputs": [],
   "source": [
    "from tensorflow.keras.preprocessing.sequence import pad_sequences\n",
    "from tensorflow.keras.layers import Embedding, LSTM, Dense, Dropout, Bidirectional, BatchNormalization\n",
    "from tensorflow.keras.preprocessing.text import Tokenizer\n",
    "from tensorflow.keras.models import Sequential\n",
    "from tensorflow.keras.optimizers import Adam, SGD\n",
    "from tensorflow.keras import regularizers\n",
    "from tensorflow.keras.callbacks import Callback, EarlyStopping\n",
    "import tensorflow.keras.utils as ku\n",
    "import tensorflow as tf\n",
    "import tensorflow_cloud as tfc\n",
    "import numpy as np\n",
    "import glob\n",
    "import random\n",
    "import os\n",
    "from google.cloud import storage"
   ]
  },
  {
   "cell_type": "code",
   "execution_count": 6,
   "metadata": {},
   "outputs": [],
   "source": [
    "# basedir = '/Users/armandrego/Documents/Python/JREBot/'\n",
    "# credentials_json = basedir + 'Speech2Text/creds.json'\n",
    "# os.environ[\"GOOGLE_APPLICATION_CREDENTIALS\"] = credentials_json\n",
    "\n",
    "# storage_client = storage.Client()\n",
    "\n",
    "# bucket_list = list(storage_client.list_buckets())\n",
    "# bucket_name = bucket_list[0].name\n",
    "\n"
   ]
  },
  {
   "cell_type": "code",
   "execution_count": 7,
   "metadata": {},
   "outputs": [
    {
     "name": "stdout",
     "output_type": "stream",
     "text": [
      "No labels provided for the training job.Please consider creating labels to help with retrieval of job information. Please see https://cloud.google.com/ai-platform/training/docs/resource-labels for more information.\n"
     ]
    },
    {
     "ename": "AttributeError",
     "evalue": "'NoneType' object has no attribute 'blocking_request'",
     "output_type": "error",
     "traceback": [
      "\u001b[0;31m---------------------------------------------------------------------------\u001b[0m",
      "\u001b[0;31mAttributeError\u001b[0m                            Traceback (most recent call last)",
      "\u001b[0;32m<ipython-input-7-03c1ff56c662>\u001b[0m in \u001b[0;36m<module>\u001b[0;34m\u001b[0m\n\u001b[0;32m----> 1\u001b[0;31m tfc.run(distribution_strategy='auto',\n\u001b[0m\u001b[1;32m      2\u001b[0m        \u001b[0mdocker_image_bucket_name\u001b[0m\u001b[0;34m=\u001b[0m\u001b[0mbucket_name\u001b[0m\u001b[0;34m,\u001b[0m\u001b[0;34m\u001b[0m\u001b[0;34m\u001b[0m\u001b[0m\n\u001b[1;32m      3\u001b[0m         stream_logs=True)\n",
      "\u001b[0;32m/usr/local/lib/python3.8/site-packages/tensorflow_cloud/core/run.py\u001b[0m in \u001b[0;36mrun\u001b[0;34m(entry_point, requirements_txt, distribution_strategy, docker_base_image, chief_config, worker_config, worker_count, entry_point_args, stream_logs, docker_image_bucket_name, job_labels, **kwargs)\u001b[0m\n\u001b[1;32m    190\u001b[0m         \u001b[0;32mor\u001b[0m \u001b[0mentry_point\u001b[0m \u001b[0;32mis\u001b[0m \u001b[0;32mNone\u001b[0m\u001b[0;34m\u001b[0m\u001b[0;34m\u001b[0m\u001b[0m\n\u001b[1;32m    191\u001b[0m     ):\n\u001b[0;32m--> 192\u001b[0;31m         preprocessed_entry_point = preprocess.get_preprocessed_entry_point(\n\u001b[0m\u001b[1;32m    193\u001b[0m             \u001b[0mentry_point\u001b[0m\u001b[0;34m,\u001b[0m\u001b[0;34m\u001b[0m\u001b[0;34m\u001b[0m\u001b[0m\n\u001b[1;32m    194\u001b[0m             \u001b[0mchief_config\u001b[0m\u001b[0;34m,\u001b[0m\u001b[0;34m\u001b[0m\u001b[0;34m\u001b[0m\u001b[0m\n",
      "\u001b[0;32m/usr/local/lib/python3.8/site-packages/tensorflow_cloud/core/preprocess.py\u001b[0m in \u001b[0;36mget_preprocessed_entry_point\u001b[0;34m(entry_point, chief_config, worker_config, worker_count, distribution_strategy, called_from_notebook)\u001b[0m\n\u001b[1;32m    158\u001b[0m     \u001b[0;32melse\u001b[0m\u001b[0;34m:\u001b[0m\u001b[0;34m\u001b[0m\u001b[0;34m\u001b[0m\u001b[0m\n\u001b[1;32m    159\u001b[0m         \u001b[0;32mif\u001b[0m \u001b[0mcalled_from_notebook\u001b[0m\u001b[0;34m:\u001b[0m\u001b[0;34m\u001b[0m\u001b[0;34m\u001b[0m\u001b[0m\n\u001b[0;32m--> 160\u001b[0;31m             \u001b[0mpy_content\u001b[0m \u001b[0;34m=\u001b[0m \u001b[0m_get_colab_notebook_content\u001b[0m\u001b[0;34m(\u001b[0m\u001b[0;34m)\u001b[0m\u001b[0;34m\u001b[0m\u001b[0;34m\u001b[0m\u001b[0m\n\u001b[0m\u001b[1;32m    161\u001b[0m         \u001b[0;32melse\u001b[0m\u001b[0;34m:\u001b[0m\u001b[0;34m\u001b[0m\u001b[0;34m\u001b[0m\u001b[0m\n\u001b[1;32m    162\u001b[0m             \u001b[0;32mif\u001b[0m \u001b[0mPythonExporter\u001b[0m \u001b[0;32mis\u001b[0m \u001b[0;32mNone\u001b[0m\u001b[0;34m:\u001b[0m\u001b[0;34m\u001b[0m\u001b[0;34m\u001b[0m\u001b[0m\n",
      "\u001b[0;32m/usr/local/lib/python3.8/site-packages/tensorflow_cloud/core/preprocess.py\u001b[0m in \u001b[0;36m_get_colab_notebook_content\u001b[0;34m()\u001b[0m\n\u001b[1;32m    187\u001b[0m \u001b[0;32mdef\u001b[0m \u001b[0m_get_colab_notebook_content\u001b[0m\u001b[0;34m(\u001b[0m\u001b[0;34m)\u001b[0m\u001b[0;34m:\u001b[0m\u001b[0;34m\u001b[0m\u001b[0;34m\u001b[0m\u001b[0m\n\u001b[1;32m    188\u001b[0m     \u001b[0;34m\"\"\"Returns the colab notebook python code contents.\"\"\"\u001b[0m\u001b[0;34m\u001b[0m\u001b[0;34m\u001b[0m\u001b[0m\n\u001b[0;32m--> 189\u001b[0;31m     \u001b[0mresponse\u001b[0m \u001b[0;34m=\u001b[0m \u001b[0m_message\u001b[0m\u001b[0;34m.\u001b[0m\u001b[0mblocking_request\u001b[0m\u001b[0;34m(\u001b[0m\u001b[0;34m\"get_ipynb\"\u001b[0m\u001b[0;34m,\u001b[0m \u001b[0mrequest\u001b[0m\u001b[0;34m=\u001b[0m\u001b[0;34m\"\"\u001b[0m\u001b[0;34m,\u001b[0m \u001b[0mtimeout_sec\u001b[0m\u001b[0;34m=\u001b[0m\u001b[0;36m200\u001b[0m\u001b[0;34m)\u001b[0m\u001b[0;34m\u001b[0m\u001b[0;34m\u001b[0m\u001b[0m\n\u001b[0m\u001b[1;32m    190\u001b[0m     \u001b[0;32mif\u001b[0m \u001b[0mresponse\u001b[0m \u001b[0;32mis\u001b[0m \u001b[0;32mNone\u001b[0m\u001b[0;34m:\u001b[0m\u001b[0;34m\u001b[0m\u001b[0;34m\u001b[0m\u001b[0m\n\u001b[1;32m    191\u001b[0m         \u001b[0;32mraise\u001b[0m \u001b[0mRuntimeError\u001b[0m\u001b[0;34m(\u001b[0m\u001b[0;34m\"Unable to get the notebook contents.\"\u001b[0m\u001b[0;34m)\u001b[0m\u001b[0;34m\u001b[0m\u001b[0;34m\u001b[0m\u001b[0m\n",
      "\u001b[0;31mAttributeError\u001b[0m: 'NoneType' object has no attribute 'blocking_request'"
     ]
    }
   ],
   "source": [
    "# tfc.run(distribution_strategy='auto',\n",
    "#        docker_image_bucket_name=bucket_name,\n",
    "#         stream_logs=True)"
   ]
  },
  {
   "cell_type": "code",
   "execution_count": null,
   "metadata": {
    "colab": {
     "base_uri": "https://localhost:8080/",
     "height": 34
    },
    "colab_type": "code",
    "id": "hTgIYSvt2jts",
    "outputId": "25e6207d-e31f-44aa-bbcd-be17b5115995"
   },
   "outputs": [
    {
     "name": "stdout",
     "output_type": "stream",
     "text": [
      "Number of unique words: 11408\n"
     ]
    }
   ],
   "source": [
    "tokenizer = Tokenizer()\n",
    "data = open('corpus.txt').read()\n",
    "\n",
    "corpus = data.lower().split('\\n ')\n",
    "tokenizer.fit_on_texts(corpus)\n",
    "num_of_unique_words = len(tokenizer.word_index) + 1\n",
    "print('Number of unique words: '+ str(num_of_unique_words))"
   ]
  },
  {
   "cell_type": "code",
   "execution_count": null,
   "metadata": {
    "colab": {
     "base_uri": "https://localhost:8080/",
     "height": 34
    },
    "colab_type": "code",
    "id": "WQi3YWLTJuV0",
    "outputId": "9ec4092e-5ba8-4d63-dcbd-7aabd9b223ce"
   },
   "outputs": [
    {
     "name": "stdout",
     "output_type": "stream",
     "text": [
      "Number of samples: 615540\n"
     ]
    }
   ],
   "source": [
    "n = 6\n",
    "input_texts = []\n",
    "for i in range(len(corpus)):\n",
    "    sentence_list = corpus[i].rstrip(' ').split(' ')\n",
    "    if len(sentence_list) > n:\n",
    "        startpoint = len(sentence_list)-(n-1)\n",
    "        endpoint = n-3\n",
    "    else:\n",
    "        startpoint = 1\n",
    "        endpoint = len(sentence_list)-1\n",
    "            \n",
    "    for j in range(startpoint):\n",
    "        for k in range(endpoint):\n",
    "            line = sentence_list[j+k:j+n]\n",
    "            input_texts.append(line)\n",
    "#print(input_texts[:20])\n",
    "random.shuffle(input_texts)\n",
    "print('Number of samples: '+str(len(input_texts)))"
   ]
  },
  {
   "cell_type": "code",
   "execution_count": null,
   "metadata": {
    "colab": {},
    "colab_type": "code",
    "id": "OPOCtm6D2jt2"
   },
   "outputs": [],
   "source": [
    "input_sequences = tokenizer.texts_to_sequences(input_texts)\n",
    "input_sequences = np.array(pad_sequences(input_sequences, maxlen=n, padding='pre'))\n",
    "\n",
    "predictors = input_sequences[:,:-1]\n",
    "labels = input_sequences[:,-1]"
   ]
  },
  {
   "cell_type": "code",
   "execution_count": null,
   "metadata": {
    "colab": {},
    "colab_type": "code",
    "id": "pRZNWYcv2juC"
   },
   "outputs": [],
   "source": [
    "class mycallback(Callback):\n",
    "    def on_epoch_end(self, epoch, logs):\n",
    "        if logs.get('accuracy') > 0.8:\n",
    "            print('Stopping early')\n",
    "            self.model.stop_training = True\n",
    "            \n",
    "callback1 = mycallback()\n",
    "\n",
    "callback2 = EarlyStopping(monitor='accuracy', min_delta = 0.002)"
   ]
  },
  {
   "cell_type": "code",
   "execution_count": null,
   "metadata": {
    "colab": {
     "base_uri": "https://localhost:8080/",
     "height": 476
    },
    "colab_type": "code",
    "id": "R7UPBte42juH",
    "outputId": "beb258a3-eba7-411f-84ec-7cf58601b759"
   },
   "outputs": [
    {
     "name": "stdout",
     "output_type": "stream",
     "text": [
      "Model: \"sequential_1\"\n",
      "_________________________________________________________________\n",
      "Layer (type)                 Output Shape              Param #   \n",
      "=================================================================\n",
      "embedding_1 (Embedding)      (None, 5, 100)            1140800   \n",
      "_________________________________________________________________\n",
      "bidirectional_1 (Bidirection (None, 5, 2048)           9216000   \n",
      "_________________________________________________________________\n",
      "batch_normalization_2 (Batch (None, 5, 2048)           8192      \n",
      "_________________________________________________________________\n",
      "dropout_2 (Dropout)          (None, 5, 2048)           0         \n",
      "_________________________________________________________________\n",
      "lstm_3 (LSTM)                (None, 512)               5244928   \n",
      "_________________________________________________________________\n",
      "batch_normalization_3 (Batch (None, 512)               2048      \n",
      "_________________________________________________________________\n",
      "dropout_3 (Dropout)          (None, 512)               0         \n",
      "_________________________________________________________________\n",
      "dense_2 (Dense)              (None, 5704)              2926152   \n",
      "_________________________________________________________________\n",
      "dense_3 (Dense)              (None, 11408)             65082640  \n",
      "=================================================================\n",
      "Total params: 83,620,760\n",
      "Trainable params: 83,615,640\n",
      "Non-trainable params: 5,120\n",
      "_________________________________________________________________\n",
      "None\n"
     ]
    }
   ],
   "source": [
    "model = Sequential([\n",
    "    Embedding(num_of_unique_words, 100, input_length=n-1),\n",
    "    Bidirectional(LSTM(1024, return_sequences=True)),\n",
    "    BatchNormalization(),\n",
    "    Dropout(0.3),\n",
    "    LSTM(512),\n",
    "    BatchNormalization(),\n",
    "    Dropout(0.3),\n",
    "    Dense(num_of_unique_words/2, activation='relu', kernel_regularizer=regularizers.l2(0.01)),\n",
    "    Dense(num_of_unique_words, activation='softmax')\n",
    "])\n",
    "adam = Adam(learning_rate=0.001, decay=1e-5)\n",
    "sgd = SGD(learning_rate=0.01)\n",
    "model.compile(loss='sparse_categorical_crossentropy', optimizer=adam, metrics=['accuracy'])\n",
    "print(model.summary())"
   ]
  },
  {
   "cell_type": "code",
   "execution_count": null,
   "metadata": {
    "colab": {
     "base_uri": "https://localhost:8080/",
     "height": 1000
    },
    "colab_type": "code",
    "id": "N_omQzOc2juL",
    "outputId": "43f0851f-6dd5-46e4-96eb-08689e066a54"
   },
   "outputs": [
    {
     "name": "stdout",
     "output_type": "stream",
     "text": [
      "Epoch 1/150\n",
      "2617/2617 [==============================] - 443s 169ms/step - loss: 5.6915 - accuracy: 0.1265 - val_loss: 5.2414 - val_accuracy: 0.1502\n",
      "Epoch 2/150\n",
      "2617/2617 [==============================] - 439s 168ms/step - loss: 5.0550 - accuracy: 0.1581 - val_loss: 4.9959 - val_accuracy: 0.1648\n",
      "Epoch 3/150\n",
      "2617/2617 [==============================] - 442s 169ms/step - loss: 4.7786 - accuracy: 0.1782 - val_loss: 4.7969 - val_accuracy: 0.1812\n",
      "Epoch 4/150\n",
      "2617/2617 [==============================] - 442s 169ms/step - loss: 4.5570 - accuracy: 0.1972 - val_loss: 4.6146 - val_accuracy: 0.2007\n",
      "Epoch 5/150\n",
      "2617/2617 [==============================] - 442s 169ms/step - loss: 4.3541 - accuracy: 0.2165 - val_loss: 4.4831 - val_accuracy: 0.2134\n",
      "Epoch 6/150\n",
      "2617/2617 [==============================] - 442s 169ms/step - loss: 4.1767 - accuracy: 0.2358 - val_loss: 4.3375 - val_accuracy: 0.2305\n",
      "Epoch 7/150\n",
      "2617/2617 [==============================] - 442s 169ms/step - loss: 4.0179 - accuracy: 0.2546 - val_loss: 4.2260 - val_accuracy: 0.2442\n",
      "Epoch 8/150\n",
      "2617/2617 [==============================] - 441s 169ms/step - loss: 3.8797 - accuracy: 0.2713 - val_loss: 4.1193 - val_accuracy: 0.2575\n",
      "Epoch 9/150\n",
      "2617/2617 [==============================] - 442s 169ms/step - loss: 3.7509 - accuracy: 0.2885 - val_loss: 4.0180 - val_accuracy: 0.2731\n",
      "Epoch 10/150\n",
      "2617/2617 [==============================] - 441s 168ms/step - loss: 3.6373 - accuracy: 0.3038 - val_loss: 3.9328 - val_accuracy: 0.2863\n",
      "Epoch 11/150\n",
      "2617/2617 [==============================] - 442s 169ms/step - loss: 3.5281 - accuracy: 0.3200 - val_loss: 3.8365 - val_accuracy: 0.2996\n",
      "Epoch 12/150\n",
      "2617/2617 [==============================] - 442s 169ms/step - loss: 3.4232 - accuracy: 0.3349 - val_loss: 3.7545 - val_accuracy: 0.3118\n",
      "Epoch 13/150\n",
      "2617/2617 [==============================] - 442s 169ms/step - loss: 3.3245 - accuracy: 0.3496 - val_loss: 3.6735 - val_accuracy: 0.3257\n",
      "Epoch 14/150\n",
      "2617/2617 [==============================] - 442s 169ms/step - loss: 3.2303 - accuracy: 0.3641 - val_loss: 3.5935 - val_accuracy: 0.3385\n",
      "Epoch 15/150\n",
      "2617/2617 [==============================] - 442s 169ms/step - loss: 3.1425 - accuracy: 0.3781 - val_loss: 3.5340 - val_accuracy: 0.3513\n",
      "Epoch 16/150\n",
      "2617/2617 [==============================] - 443s 169ms/step - loss: 3.0522 - accuracy: 0.3923 - val_loss: 3.4601 - val_accuracy: 0.3603\n",
      "Epoch 17/150\n",
      "2617/2617 [==============================] - 444s 170ms/step - loss: 2.9760 - accuracy: 0.4065 - val_loss: 3.3908 - val_accuracy: 0.3769\n",
      "Epoch 18/150\n",
      "2617/2617 [==============================] - 444s 170ms/step - loss: 2.8950 - accuracy: 0.4201 - val_loss: 3.3133 - val_accuracy: 0.3878\n",
      "Epoch 19/150\n",
      "2617/2617 [==============================] - 445s 170ms/step - loss: 2.8154 - accuracy: 0.4332 - val_loss: 3.2661 - val_accuracy: 0.3995\n",
      "Epoch 20/150\n",
      "2617/2617 [==============================] - 443s 169ms/step - loss: 2.7428 - accuracy: 0.4461 - val_loss: 3.1944 - val_accuracy: 0.4117\n",
      "Epoch 21/150\n",
      "2617/2617 [==============================] - 443s 169ms/step - loss: 2.6721 - accuracy: 0.4586 - val_loss: 3.1428 - val_accuracy: 0.4224\n",
      "Epoch 22/150\n",
      "2617/2617 [==============================] - 442s 169ms/step - loss: 2.6046 - accuracy: 0.4708 - val_loss: 3.0839 - val_accuracy: 0.4335\n",
      "Epoch 23/150\n",
      "2617/2617 [==============================] - 442s 169ms/step - loss: 2.5402 - accuracy: 0.4826 - val_loss: 3.0275 - val_accuracy: 0.4485\n",
      "Epoch 24/150\n",
      "2617/2617 [==============================] - 442s 169ms/step - loss: 2.4797 - accuracy: 0.4946 - val_loss: 2.9783 - val_accuracy: 0.4561\n",
      "Epoch 25/150\n",
      "2617/2617 [==============================] - 443s 169ms/step - loss: 2.4244 - accuracy: 0.5046 - val_loss: 2.9313 - val_accuracy: 0.4682\n",
      "Epoch 26/150\n",
      "2617/2617 [==============================] - 442s 169ms/step - loss: 2.3679 - accuracy: 0.5162 - val_loss: 2.8918 - val_accuracy: 0.4756\n",
      "Epoch 27/150\n",
      "2617/2617 [==============================] - 441s 169ms/step - loss: 2.3145 - accuracy: 0.5266 - val_loss: 2.8452 - val_accuracy: 0.4873\n",
      "Epoch 28/150\n",
      "2617/2617 [==============================] - 442s 169ms/step - loss: 2.2687 - accuracy: 0.5361 - val_loss: 2.8045 - val_accuracy: 0.4977\n",
      "Epoch 29/150\n",
      "2617/2617 [==============================] - 442s 169ms/step - loss: 2.2144 - accuracy: 0.5457 - val_loss: 2.7682 - val_accuracy: 0.5041\n",
      "Epoch 30/150\n",
      "2617/2617 [==============================] - 441s 169ms/step - loss: 2.1738 - accuracy: 0.5550 - val_loss: 2.7220 - val_accuracy: 0.5140\n",
      "Epoch 31/150\n",
      "2617/2617 [==============================] - 441s 169ms/step - loss: 2.1304 - accuracy: 0.5637 - val_loss: 2.6933 - val_accuracy: 0.5232\n",
      "Epoch 32/150\n",
      "2617/2617 [==============================] - 441s 168ms/step - loss: 2.0950 - accuracy: 0.5704 - val_loss: 2.6411 - val_accuracy: 0.5311\n",
      "Epoch 33/150\n",
      "2617/2617 [==============================] - 441s 169ms/step - loss: 2.0520 - accuracy: 0.5795 - val_loss: 2.6052 - val_accuracy: 0.5370\n",
      "Epoch 34/150\n",
      "2617/2617 [==============================] - 441s 169ms/step - loss: 2.0213 - accuracy: 0.5858 - val_loss: 2.5928 - val_accuracy: 0.5430\n",
      "Epoch 35/150\n",
      "2617/2617 [==============================] - 441s 168ms/step - loss: 1.9826 - accuracy: 0.5936 - val_loss: 2.5670 - val_accuracy: 0.5505\n",
      "Epoch 36/150\n",
      "2617/2617 [==============================] - 441s 168ms/step - loss: 1.9513 - accuracy: 0.5997 - val_loss: 2.5392 - val_accuracy: 0.5566\n",
      "Epoch 37/150\n",
      "2617/2617 [==============================] - 441s 169ms/step - loss: 1.9213 - accuracy: 0.6068 - val_loss: 2.5132 - val_accuracy: 0.5643\n",
      "Epoch 38/150\n",
      "2617/2617 [==============================] - 441s 169ms/step - loss: 1.8879 - accuracy: 0.6134 - val_loss: 2.4923 - val_accuracy: 0.5689\n",
      "Epoch 39/150\n",
      "2617/2617 [==============================] - 440s 168ms/step - loss: 1.8611 - accuracy: 0.6194 - val_loss: 2.4790 - val_accuracy: 0.5750\n",
      "Epoch 40/150\n",
      "2617/2617 [==============================] - 441s 168ms/step - loss: 1.8375 - accuracy: 0.6241 - val_loss: 2.4328 - val_accuracy: 0.5822\n",
      "Epoch 41/150\n",
      "2617/2617 [==============================] - 440s 168ms/step - loss: 1.8073 - accuracy: 0.6300 - val_loss: 2.4326 - val_accuracy: 0.5852\n",
      "Epoch 42/150\n",
      "2617/2617 [==============================] - 440s 168ms/step - loss: 1.7775 - accuracy: 0.6361 - val_loss: 2.4145 - val_accuracy: 0.5887\n",
      "Epoch 43/150\n",
      "2617/2617 [==============================] - 441s 168ms/step - loss: 1.7591 - accuracy: 0.6406 - val_loss: 2.3662 - val_accuracy: 0.5969\n",
      "Epoch 44/150\n",
      "2617/2617 [==============================] - 440s 168ms/step - loss: 1.7349 - accuracy: 0.6457 - val_loss: 2.3722 - val_accuracy: 0.5986\n",
      "Epoch 45/150\n",
      "2617/2617 [==============================] - 441s 168ms/step - loss: 1.7095 - accuracy: 0.6519 - val_loss: 2.3591 - val_accuracy: 0.6025\n",
      "Epoch 46/150\n",
      "2617/2617 [==============================] - 441s 169ms/step - loss: 1.6895 - accuracy: 0.6549 - val_loss: 2.3380 - val_accuracy: 0.6101\n",
      "Epoch 47/150\n",
      "2617/2617 [==============================] - 439s 168ms/step - loss: 1.6757 - accuracy: 0.6586 - val_loss: 2.3106 - val_accuracy: 0.6107\n",
      "Epoch 48/150\n",
      "2617/2617 [==============================] - 439s 168ms/step - loss: 1.6496 - accuracy: 0.6643 - val_loss: 2.3088 - val_accuracy: 0.6131\n",
      "Epoch 49/150\n",
      "2617/2617 [==============================] - 440s 168ms/step - loss: 1.6302 - accuracy: 0.6684 - val_loss: 2.2941 - val_accuracy: 0.6177\n",
      "Epoch 50/150\n",
      "2617/2617 [==============================] - 440s 168ms/step - loss: 1.6164 - accuracy: 0.6710 - val_loss: 2.2665 - val_accuracy: 0.6212\n",
      "Epoch 51/150\n",
      "2617/2617 [==============================] - 438s 168ms/step - loss: 1.5951 - accuracy: 0.6752 - val_loss: 2.2538 - val_accuracy: 0.6270\n",
      "Epoch 52/150\n",
      "2617/2617 [==============================] - 439s 168ms/step - loss: 1.5797 - accuracy: 0.6786 - val_loss: 2.2682 - val_accuracy: 0.6261\n",
      "Epoch 53/150\n",
      "2617/2617 [==============================] - 439s 168ms/step - loss: 1.5594 - accuracy: 0.6831 - val_loss: 2.2499 - val_accuracy: 0.6310\n",
      "Epoch 54/150\n",
      "2617/2617 [==============================] - 439s 168ms/step - loss: 1.5476 - accuracy: 0.6857 - val_loss: 2.2299 - val_accuracy: 0.6328\n",
      "Epoch 55/150\n",
      "2617/2617 [==============================] - 440s 168ms/step - loss: 1.5325 - accuracy: 0.6885 - val_loss: 2.2202 - val_accuracy: 0.6361\n",
      "Epoch 56/150\n",
      "2617/2617 [==============================] - 439s 168ms/step - loss: 1.5167 - accuracy: 0.6925 - val_loss: 2.1929 - val_accuracy: 0.6420\n",
      "Epoch 57/150\n",
      "2617/2617 [==============================] - 440s 168ms/step - loss: 1.5044 - accuracy: 0.6946 - val_loss: 2.1993 - val_accuracy: 0.6405\n",
      "Epoch 58/150\n",
      "2617/2617 [==============================] - 439s 168ms/step - loss: 1.4875 - accuracy: 0.6981 - val_loss: 2.2125 - val_accuracy: 0.6441\n",
      "Epoch 59/150\n",
      "2617/2617 [==============================] - 439s 168ms/step - loss: 1.4777 - accuracy: 0.7003 - val_loss: 2.1533 - val_accuracy: 0.6467\n",
      "Epoch 60/150\n",
      "2617/2617 [==============================] - 438s 168ms/step - loss: 1.4613 - accuracy: 0.7041 - val_loss: 2.1891 - val_accuracy: 0.6482\n",
      "Epoch 61/150\n",
      "2617/2617 [==============================] - 439s 168ms/step - loss: 1.4505 - accuracy: 0.7060 - val_loss: 2.1612 - val_accuracy: 0.6521\n"
     ]
    }
   ],
   "source": [
    "history = model.fit(predictors,labels, epochs=150, callbacks=[callback1, callback2], \n",
    "                    batch_size=200, validation_split=0.15)"
   ]
  },
  {
   "cell_type": "code",
   "execution_count": null,
   "metadata": {
    "colab": {
     "base_uri": "https://localhost:8080/",
     "height": 545
    },
    "colab_type": "code",
    "id": "28PG780q2juO",
    "outputId": "15dfb91f-0a66-4e84-cace-b1f778142c77"
   },
   "outputs": [
    {
     "data": {
      "image/png": "[encoded data removed]",
      "text/plain": [
       "<Figure size 432x288 with 1 Axes>"
      ]
     },
     "metadata": {
      "needs_background": "light",
      "tags": []
     },
     "output_type": "display_data"
    },
    {
     "data": {
      "image/png": "[encoded data removed]",
      "text/plain": [
       "<Figure size 432x288 with 1 Axes>"
      ]
     },
     "metadata": {
      "needs_background": "light",
      "tags": []
     },
     "output_type": "display_data"
    }
   ],
   "source": [
    "import matplotlib.pyplot as plt\n",
    "acc = history.history['accuracy']\n",
    "loss = history.history['loss']\n",
    "val_acc = history.history['val_accuracy']\n",
    "val_loss = history.history['val_loss']\n",
    "\n",
    "epochs = range(len(acc))\n",
    "\n",
    "plt.plot(epochs, acc, 'b', label='Training accuracy')\n",
    "plt.plot(epochs, val_acc, 'r', label='Validation accuracy')\n",
    "plt.title('Training accuracy')\n",
    "\n",
    "plt.figure()\n",
    "\n",
    "plt.plot(epochs, loss, 'b', label='Training Loss')\n",
    "plt.plot(epochs, val_loss, 'r', label='Validation Loss')\n",
    "plt.title('Training loss')\n",
    "plt.legend()\n",
    "\n",
    "plt.show()"
   ]
  },
  {
   "cell_type": "code",
   "execution_count": 30,
   "metadata": {
    "colab": {
     "base_uri": "https://localhost:8080/",
     "height": 34
    },
    "colab_type": "code",
    "id": "nypJvU5f2Cir",
    "outputId": "f0417374-6353-47d2-b535-f377555749e5"
   },
   "outputs": [
    {
     "name": "stdout",
     "output_type": "stream",
     "text": [
      "INFO:tensorflow:Assets written to: tmp/jrebot/assets\n"
     ]
    }
   ],
   "source": [
    "model.save('tmp/jrebot', overwrite=True)"
   ]
  },
  {
   "cell_type": "code",
   "execution_count": 36,
   "metadata": {
    "colab": {
     "base_uri": "https://localhost:8080/",
     "height": 54
    },
    "colab_type": "code",
    "id": "MXhLaIBk2juQ",
    "outputId": "21b75805-d617-44b2-cd75-39868b8a21d6"
   },
   "outputs": [
    {
     "name": "stdout",
     "output_type": "stream",
     "text": [
      "the world is going to be in pain all the time cuz you mentioned a lot of people that are going to oppose it and come up with a simulation it's going to be able to detect at the testosterone side of your body is thinking you could be and they can find consensus\n"
     ]
    }
   ],
   "source": [
    "seed = \"the world is going\"\n",
    "\n",
    "next_words = 50\n",
    "phrase = []\n",
    "def randomize_word(sequence, temperature=1):\n",
    "    probs = model.predict(sequence)\n",
    "    rescaled_logits = tf.math.log(probs)/temperature\n",
    "    word_id = tf.random.categorical(rescaled_logits, num_samples=1)\n",
    "\n",
    "    return word_id\n",
    "\n",
    "\n",
    "for _ in range(next_words):\n",
    "    phrase = seed.split(' ')[-(n-1)::]\n",
    "    sequence = tokenizer.texts_to_sequences([phrase])\n",
    "    sequence = pad_sequences(sequence, maxlen=n-1, padding='pre')\n",
    "    #predicted = model.predict_classes(sequence)\n",
    "    predicted = randomize_word(sequence,temperature=0.5)\n",
    "    next_word = ''\n",
    "    for word,index in tokenizer.word_index.items():\n",
    "        if index == predicted[0]:\n",
    "            next_word = word\n",
    "            break\n",
    "    seed += ' ' + next_word\n",
    "\n",
    "print(seed)\n",
    "    "
   ]
  },
  {
   "cell_type": "code",
   "execution_count": null,
   "metadata": {
    "colab": {},
    "colab_type": "code",
    "id": "c2Li3DMv2juS"
   },
   "outputs": [],
   "source": []
  }
 ],
 "metadata": {
  "accelerator": "GPU",
  "colab": {
   "name": "bot_model.ipynb",
   "provenance": []
  },
  "kernelspec": {
   "display_name": "Python 3",
   "language": "python",
   "name": "python3"
  },
  "language_info": {
   "codemirror_mode": {
    "name": "ipython",
    "version": 3
   },
   "file_extension": ".py",
   "mimetype": "text/x-python",
   "name": "python",
   "nbconvert_exporter": "python",
   "pygments_lexer": "ipython3",
   "version": "3.8.5"
  }
 },
 "nbformat": 4,
 "nbformat_minor": 1
}
